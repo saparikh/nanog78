{
 "cells": [
  {
   "cell_type": "code",
   "execution_count": 1,
   "metadata": {
    "slideshow": {
     "slide_type": "skip"
    }
   },
   "outputs": [],
   "source": [
    "import os\n",
    "from pybatfish.client.session import Session\n",
    "import pandas as pd\n",
    "import yaml\n",
    "from os.path import abspath, dirname, join, pardir, realpath\n",
    "from netaddr import *\n",
    "from deepdiff import DeepDiff\n",
    "from pprint import pprint\n",
    "\n",
    "%run ../code/bgp_route_helpers\n",
    "%run ../code/gen_external_bgp_adverts\n",
    "\n",
    "#pandas display options\n",
    "pd.set_option(\"display.width\", 300)\n",
    "pd.set_option(\"display.max_columns\", 20)\n",
    "pd.set_option(\"display.max_rows\", 1000)\n",
    "pd.set_option(\"display.max_colwidth\", -1)\n",
    "\n",
    "#snapshot directory and path setup\n",
    "_this_dir = os.getcwd()\n",
    "_root_dir = abspath(join(_this_dir, pardir))"
   ]
  },
  {
   "cell_type": "code",
   "execution_count": 2,
   "metadata": {
    "slideshow": {
     "slide_type": "skip"
    }
   },
   "outputs": [],
   "source": [
    "# create BF session and initialize snapshot\n",
    "try:\n",
    "    bf = Session.get('bfe') #Batfish Enterprise\n",
    "except:\n",
    "    bf = Session.get('bf') #Batfish Open-source"
   ]
  },
  {
   "cell_type": "markdown",
   "metadata": {
    "slideshow": {
     "slide_type": "slide"
    }
   },
   "source": [
    "# Demo Network\n",
    "<style>\n",
    "    .image {\n",
    "        display: block; \n",
    "        margin-left: 20px; \n",
    "        margin-right: 20px; \n",
    "        width:50%; \n",
    "    }\n",
    "</style>\n",
    "<img src=\"./nanog-demo3-network.png\" class=\"image\">"
   ]
  },
  {
   "cell_type": "code",
   "execution_count": 3,
   "metadata": {
    "slideshow": {
     "slide_type": "skip"
    }
   },
   "outputs": [
    {
     "data": {
      "text/plain": [
       "'base'"
      ]
     },
     "execution_count": 3,
     "metadata": {},
     "output_type": "execute_result"
    }
   ],
   "source": [
    "NETWORK = \"Nanog-demo2\"\n",
    "BASE_SNAPSHOT_DIR = f\"{_root_dir}/snapshots/demo2/base\"\n",
    "BASE_SNAPSHOT_NAME = \"base\"\n",
    "\n",
    "bf.set_network(NETWORK)\n",
    "bf.init_snapshot(BASE_SNAPSHOT_DIR, name=BASE_SNAPSHOT_NAME, overwrite=True)"
   ]
  },
  {
   "cell_type": "markdown",
   "metadata": {
    "slideshow": {
     "slide_type": "slide"
    }
   },
   "source": [
    "### ISP01 wants to advertise prefixes under 14.1.0.0/16 with a prefix length of /24 or longer for loadbalancing purposes"
   ]
  },
  {
   "cell_type": "code",
   "execution_count": 4,
   "metadata": {
    "slideshow": {
     "slide_type": "fragment"
    }
   },
   "outputs": [
    {
     "name": "stdout",
     "output_type": "stream",
     "text": [
      "14.1.128.0/26 advertised to pe3:11.1.2.0 by isp01-nyc:11.1.2.1\n",
      "14.1.128.64/26 advertised to pe3:11.1.2.0 by isp01-nyc:11.1.2.1\n",
      "14.1.129.0/25 advertised to pe3:11.1.2.0 by isp01-nyc:11.1.2.1\n",
      "14.1.12.0/26 advertised to pe1:11.1.1.0 by isp01-den:11.1.1.1\n",
      "14.1.12.64/26 advertised to pe1:11.1.1.0 by isp01-den:11.1.1.1\n",
      "14.1.13.0/27 advertised to pe1:11.1.1.0 by isp01-den:11.1.1.1\n",
      "14.1.13.32/27 advertised to pe1:11.1.1.0 by isp01-den:11.1.1.1\n",
      "14.1.13.64/27 advertised to pe1:11.1.1.0 by isp01-den:11.1.1.1\n",
      "14.1.13.96/27 advertised to pe1:11.1.1.0 by isp01-den:11.1.1.1\n"
     ]
    }
   ],
   "source": [
    "# retrieve the BGP routes advertised from external peers (BGP-Adj-RIB-In)\n",
    "base_bgp_announce = get_snapshot_bgp_announcements(BASE_SNAPSHOT_DIR)['Announcements']\n",
    "show_bgp_long_pfx_announcements(base_bgp_announce, \"14.1.0.0/16\")"
   ]
  },
  {
   "cell_type": "code",
   "execution_count": 5,
   "metadata": {
    "slideshow": {
     "slide_type": "fragment"
    }
   },
   "outputs": [
    {
     "data": {
      "text/html": [
       "<div>\n",
       "<style scoped>\n",
       "    .dataframe tbody tr th:only-of-type {\n",
       "        vertical-align: middle;\n",
       "    }\n",
       "\n",
       "    .dataframe tbody tr th {\n",
       "        vertical-align: top;\n",
       "    }\n",
       "\n",
       "    .dataframe thead th {\n",
       "        text-align: right;\n",
       "    }\n",
       "</style>\n",
       "<table border=\"1\" class=\"dataframe\">\n",
       "  <thead>\n",
       "    <tr style=\"text-align: right;\">\n",
       "      <th></th>\n",
       "      <th>Node</th>\n",
       "      <th>VRF</th>\n",
       "      <th>Network</th>\n",
       "      <th>Next_Hop</th>\n",
       "      <th>Next_Hop_IP</th>\n",
       "      <th>Next_Hop_Interface</th>\n",
       "      <th>Protocol</th>\n",
       "      <th>Metric</th>\n",
       "      <th>Admin_Distance</th>\n",
       "      <th>Tag</th>\n",
       "    </tr>\n",
       "  </thead>\n",
       "  <tbody>\n",
       "  </tbody>\n",
       "</table>\n",
       "</div>"
      ],
      "text/plain": [
       "Empty DataFrame\n",
       "Columns: [Node, VRF, Network, Next_Hop, Next_Hop_IP, Next_Hop_Interface, Protocol, Metric, Admin_Distance, Tag]\n",
       "Index: []"
      ]
     },
     "execution_count": 5,
     "metadata": {},
     "output_type": "execute_result"
    }
   ],
   "source": [
    "check_routes_for_subnets(bf, \"14.1.0.0/16\")"
   ]
  },
  {
   "cell_type": "markdown",
   "metadata": {
    "slideshow": {
     "slide_type": "fragment"
    }
   },
   "source": [
    "**We have confirmed that our routing policy is blocking the prefixes that are > /24 in length from isp01.**\n",
    "\n",
    "\n",
    "**We want to allow such prefixes from isp01 for loadbalancing purposes so let's change our configuration and see if that does the trick.**"
   ]
  },
  {
   "cell_type": "markdown",
   "metadata": {
    "slideshow": {
     "slide_type": "slide"
    }
   },
   "source": [
    "### Change the input routing policy towards ***isp01*** across all PE devices"
   ]
  },
  {
   "cell_type": "code",
   "execution_count": 6,
   "metadata": {
    "slideshow": {
     "slide_type": "fragment"
    }
   },
   "outputs": [],
   "source": [
    "# snapshot with new route policy to accomodate peer loadbalancing request\n",
    "TEST1_SNAPSHOT_DIR = f\"{_root_dir}/snapshots/demo2/test1\"\n",
    "TEST1_SNAPSHOT_NAME = \"test1\"\n",
    "\n",
    "t = bf.fork_snapshot(BASE_SNAPSHOT_NAME, name=TEST1_SNAPSHOT_NAME, add_files=TEST1_SNAPSHOT_DIR, overwrite=True)"
   ]
  },
  {
   "cell_type": "code",
   "execution_count": 7,
   "metadata": {
    "slideshow": {
     "slide_type": "slide"
    }
   },
   "outputs": [
    {
     "name": "stdout",
     "output_type": "stream",
     "text": [
      "\u001b[0;35mOnly in /Users/samir/git/nanog78/snapshots/demo2/base/configs: cust01.cfg\u001b[m\n",
      "\u001b[0;35mOnly in /Users/samir/git/nanog78/snapshots/demo2/base/configs: cust02.cfg\u001b[m\n",
      "\u001b[0;35mOnly in /Users/samir/git/nanog78/snapshots/demo2/base/configs: isp01-den.cfg\u001b[m\n",
      "\u001b[0;35mOnly in /Users/samir/git/nanog78/snapshots/demo2/base/configs: isp01-nyc.cfg\u001b[m\n",
      "\u001b[0;35mOnly in /Users/samir/git/nanog78/snapshots/demo2/base/configs: isp02-chi.cfg\u001b[m\n",
      "\u001b[0;34m/Users/samir/git/nanog78/snapshots/demo2/base/configs/pe1.cfg\u001b[m                   \u001b[0;34m/Users/samir/git/nanog78/snapshots/demo2/test1/configs/pe1.cfg\u001b[m                 \n",
      "ip prefix-list ISP1001-IN seq 5 permit 0.0.0.0/0 le 23                          ip prefix-list ISP1001-IN seq 5 permit 0.0.0.0/0 le 23                         \n",
      "!                                                                               !                                                                              \n",
      "                                                                                \u001b[1;32mip prefix-list ISP1001-IN24 seq 5 permit 14.1.0.0/16 le 32\u001b[m                     \n",
      "                                                                                \u001b[1;32m!\u001b[m                                                                              \n",
      "route-map customer1-in permit 10                                                route-map customer1-in permit 10                                               \n",
      " match ip address prefix-list customer1                                          match ip address prefix-list customer1                                        \n",
      "\u001b[0;34m---\u001b[m                                                                             \u001b[0;34m---\u001b[m                                                                            \n",
      "!                                                                               !                                                                              \n",
      "route-map ISP1001-IN permit 20                                                  route-map ISP1001-IN permit 20                                                 \n",
      "                                                                                \u001b[1;32m match ip address prefix-list ISP1001-IN24\u001b[m                                     \n",
      "                                                                                \u001b[1;32m set community 1001:1\u001b[m                                                          \n",
      "                                                                                \u001b[1;32m!\u001b[m                                                                              \n",
      "                                                                                \u001b[1;32mroute-map ISP1001-IN permit 30\u001b[m                                                 \n",
      " match ip address prefix-list ISP1001-IN                                         match ip address prefix-list ISP1001-IN                                       \n",
      " match as-path 2                                                                 match as-path 2                                                               \n",
      " set community 1001:1                                                            set community 1001:1                                                          \n",
      "!                                                                               !                                                                              \n",
      "route-map ISP1001-IN deny \u001b[1;33m3\u001b[m0                                                    route-map ISP1001-IN deny \u001b[1;33m4\u001b[m0                                                   \n",
      "!                                                                               !                                                                              \n",
      "!                                                                               !                                                                              \n",
      "\u001b[0;35mOnly in /Users/samir/git/nanog78/snapshots/demo2/base/configs: pe2.cfg\u001b[m\n",
      "\u001b[0;34m/Users/samir/git/nanog78/snapshots/demo2/base/configs/pe3.cfg\u001b[m                   \u001b[0;34m/Users/samir/git/nanog78/snapshots/demo2/test1/configs/pe3.cfg\u001b[m                 \n",
      "set policy-options policy-statement ISP1001-IN term ALLOW_1 then community set  set policy-options policy-statement ISP1001-IN term ALLOW_1 then community set \n",
      " ISP1001_MARK                                                                    ISP1001_MARK                                                                  \n",
      "set policy-options policy-statement ISP1001-IN term ALLOW_1 then accept         set policy-options policy-statement ISP1001-IN term ALLOW_1 then accept        \n",
      "                                                                                \u001b[1;32mset policy-options policy-statement ISP1001-IN term ALLOW_24 from as-path ISP1\u001b[m \n",
      "                                                                                \u001b[1;32m001\u001b[m                                                                            \n",
      "                                                                                \u001b[1;32mset policy-options policy-statement ISP1001-IN term ALLOW_24 from route-filter\u001b[m \n",
      "                                                                                \u001b[1;32m 14.1.0.0/16 orlonger\u001b[m                                                          \n",
      "                                                                                \u001b[1;32mset policy-options policy-statement ISP1001-IN term ALLOW_24 then community se\u001b[m \n",
      "                                                                                \u001b[1;32mt ISP1001_MARK\u001b[m                                                                 \n",
      "                                                                                \u001b[1;32mset policy-options policy-statement ISP1001-IN term ALLOW_24 then accept\u001b[m       \n",
      "set policy-options policy-statement ISP1001-IN term REJECT then reject          set policy-options policy-statement ISP1001-IN term REJECT then reject         \n",
      "set policy-options policy-statement REJECT-DEFAULT term DEFAULT from route-fil  set policy-options policy-statement REJECT-DEFAULT term DEFAULT from route-fil \n",
      "ter 0.0.0.0/0 exact                                                             ter 0.0.0.0/0 exact                                                            \n",
      "\u001b[0;35mOnly in /Users/samir/git/nanog78/snapshots/demo2/base: external_bgp_announcements.json\u001b[m\n",
      "\n"
     ]
    }
   ],
   "source": [
    "stream = os.popen(f\"icdiff -r --cols=160 {BASE_SNAPSHOT_DIR} {TEST1_SNAPSHOT_DIR} -U 2\")\n",
    "print(stream.read())"
   ]
  },
  {
   "cell_type": "markdown",
   "metadata": {
    "slideshow": {
     "slide_type": "slide"
    }
   },
   "source": [
    "**Let's see if the target routes are accepted by pe1 and pe3**"
   ]
  },
  {
   "cell_type": "code",
   "execution_count": 8,
   "metadata": {
    "slideshow": {
     "slide_type": "fragment"
    }
   },
   "outputs": [
    {
     "data": {
      "text/html": [
       "<div>\n",
       "<style scoped>\n",
       "    .dataframe tbody tr th:only-of-type {\n",
       "        vertical-align: middle;\n",
       "    }\n",
       "\n",
       "    .dataframe tbody tr th {\n",
       "        vertical-align: top;\n",
       "    }\n",
       "\n",
       "    .dataframe thead th {\n",
       "        text-align: right;\n",
       "    }\n",
       "</style>\n",
       "<table border=\"1\" class=\"dataframe\">\n",
       "  <thead>\n",
       "    <tr style=\"text-align: right;\">\n",
       "      <th></th>\n",
       "      <th>Node</th>\n",
       "      <th>VRF</th>\n",
       "      <th>Network</th>\n",
       "      <th>Next_Hop</th>\n",
       "      <th>Next_Hop_IP</th>\n",
       "      <th>Next_Hop_Interface</th>\n",
       "      <th>Protocol</th>\n",
       "      <th>Metric</th>\n",
       "      <th>Admin_Distance</th>\n",
       "      <th>Tag</th>\n",
       "    </tr>\n",
       "  </thead>\n",
       "  <tbody>\n",
       "    <tr>\n",
       "      <th>6</th>\n",
       "      <td>pe3</td>\n",
       "      <td>default</td>\n",
       "      <td>14.1.12.64/26</td>\n",
       "      <td>isp01-den</td>\n",
       "      <td>11.1.1.1</td>\n",
       "      <td>dynamic</td>\n",
       "      <td>ibgp</td>\n",
       "      <td>8</td>\n",
       "      <td>170</td>\n",
       "      <td>None</td>\n",
       "    </tr>\n",
       "    <tr>\n",
       "      <th>55</th>\n",
       "      <td>pe1</td>\n",
       "      <td>default</td>\n",
       "      <td>14.1.12.0/26</td>\n",
       "      <td>isp01-den</td>\n",
       "      <td>11.1.1.1</td>\n",
       "      <td>dynamic</td>\n",
       "      <td>bgp</td>\n",
       "      <td>2</td>\n",
       "      <td>20</td>\n",
       "      <td>None</td>\n",
       "    </tr>\n",
       "    <tr>\n",
       "      <th>57</th>\n",
       "      <td>pe3</td>\n",
       "      <td>default</td>\n",
       "      <td>14.1.13.0/27</td>\n",
       "      <td>isp01-den</td>\n",
       "      <td>11.1.1.1</td>\n",
       "      <td>dynamic</td>\n",
       "      <td>ibgp</td>\n",
       "      <td>6</td>\n",
       "      <td>170</td>\n",
       "      <td>None</td>\n",
       "    </tr>\n",
       "    <tr>\n",
       "      <th>58</th>\n",
       "      <td>pe1</td>\n",
       "      <td>default</td>\n",
       "      <td>14.1.13.64/27</td>\n",
       "      <td>isp01-den</td>\n",
       "      <td>11.1.1.1</td>\n",
       "      <td>dynamic</td>\n",
       "      <td>bgp</td>\n",
       "      <td>17</td>\n",
       "      <td>20</td>\n",
       "      <td>None</td>\n",
       "    </tr>\n",
       "    <tr>\n",
       "      <th>63</th>\n",
       "      <td>pe1</td>\n",
       "      <td>default</td>\n",
       "      <td>14.1.129.0/25</td>\n",
       "      <td>isp01-nyc</td>\n",
       "      <td>11.1.2.1</td>\n",
       "      <td>dynamic</td>\n",
       "      <td>ibgp</td>\n",
       "      <td>49</td>\n",
       "      <td>200</td>\n",
       "      <td>None</td>\n",
       "    </tr>\n",
       "  </tbody>\n",
       "</table>\n",
       "</div>"
      ],
      "text/plain": [
       "   Node      VRF        Network   Next_Hop Next_Hop_IP Next_Hop_Interface Protocol Metric Admin_Distance   Tag\n",
       "6   pe3  default  14.1.12.64/26  isp01-den  11.1.1.1    dynamic            ibgp     8      170            None\n",
       "55  pe1  default  14.1.12.0/26   isp01-den  11.1.1.1    dynamic            bgp      2      20             None\n",
       "57  pe3  default  14.1.13.0/27   isp01-den  11.1.1.1    dynamic            ibgp     6      170            None\n",
       "58  pe1  default  14.1.13.64/27  isp01-den  11.1.1.1    dynamic            bgp      17     20             None\n",
       "63  pe1  default  14.1.129.0/25  isp01-nyc  11.1.2.1    dynamic            ibgp     49     200            None"
      ]
     },
     "execution_count": 8,
     "metadata": {},
     "output_type": "execute_result"
    }
   ],
   "source": [
    "check_routes_for_subnets(bf, \"14.1.0.0/16\", 'pe1,pe3').head(5)"
   ]
  },
  {
   "cell_type": "markdown",
   "metadata": {
    "slideshow": {
     "slide_type": "slide"
    }
   },
   "source": [
    "**We can also check the difference in the routing tables between the TEST1 and BASE snapshots**"
   ]
  },
  {
   "cell_type": "code",
   "execution_count": 9,
   "metadata": {
    "slideshow": {
     "slide_type": "fragment"
    }
   },
   "outputs": [
    {
     "data": {
      "text/html": [
       "<div>\n",
       "<style scoped>\n",
       "    .dataframe tbody tr th:only-of-type {\n",
       "        vertical-align: middle;\n",
       "    }\n",
       "\n",
       "    .dataframe tbody tr th {\n",
       "        vertical-align: top;\n",
       "    }\n",
       "\n",
       "    .dataframe thead th {\n",
       "        text-align: right;\n",
       "    }\n",
       "</style>\n",
       "<table border=\"1\" class=\"dataframe\">\n",
       "  <thead>\n",
       "    <tr style=\"text-align: right;\">\n",
       "      <th></th>\n",
       "      <th>Node</th>\n",
       "      <th>Network</th>\n",
       "      <th>Entry_Presence</th>\n",
       "      <th>Snapshot_Next_Hop</th>\n",
       "      <th>Reference_Next_Hop</th>\n",
       "    </tr>\n",
       "  </thead>\n",
       "  <tbody>\n",
       "    <tr>\n",
       "      <th>5</th>\n",
       "      <td>pe1</td>\n",
       "      <td>14.1.13.32/27</td>\n",
       "      <td>Only in Snapshot</td>\n",
       "      <td>isp01-den</td>\n",
       "      <td>None</td>\n",
       "    </tr>\n",
       "    <tr>\n",
       "      <th>29</th>\n",
       "      <td>pe1</td>\n",
       "      <td>14.1.12.64/26</td>\n",
       "      <td>Only in Snapshot</td>\n",
       "      <td>isp01-den</td>\n",
       "      <td>None</td>\n",
       "    </tr>\n",
       "    <tr>\n",
       "      <th>33</th>\n",
       "      <td>pe1</td>\n",
       "      <td>14.1.128.0/26</td>\n",
       "      <td>Only in Snapshot</td>\n",
       "      <td>isp01-nyc</td>\n",
       "      <td>None</td>\n",
       "    </tr>\n",
       "    <tr>\n",
       "      <th>37</th>\n",
       "      <td>pe1</td>\n",
       "      <td>14.1.13.64/27</td>\n",
       "      <td>Only in Snapshot</td>\n",
       "      <td>isp01-den</td>\n",
       "      <td>None</td>\n",
       "    </tr>\n",
       "    <tr>\n",
       "      <th>39</th>\n",
       "      <td>pe1</td>\n",
       "      <td>14.1.12.0/26</td>\n",
       "      <td>Only in Snapshot</td>\n",
       "      <td>isp01-den</td>\n",
       "      <td>None</td>\n",
       "    </tr>\n",
       "  </tbody>\n",
       "</table>\n",
       "</div>"
      ],
      "text/plain": [
       "   Node        Network    Entry_Presence Snapshot_Next_Hop Reference_Next_Hop\n",
       "5   pe1  14.1.13.32/27  Only in Snapshot  isp01-den         None             \n",
       "29  pe1  14.1.12.64/26  Only in Snapshot  isp01-den         None             \n",
       "33  pe1  14.1.128.0/26  Only in Snapshot  isp01-nyc         None             \n",
       "37  pe1  14.1.13.64/27  Only in Snapshot  isp01-den         None             \n",
       "39  pe1  14.1.12.0/26   Only in Snapshot  isp01-den         None             "
      ]
     },
     "execution_count": 9,
     "metadata": {},
     "output_type": "execute_result"
    }
   ],
   "source": [
    "rtd = bf.q.routes().answer(snapshot=TEST1_SNAPSHOT_NAME, reference_snapshot=BASE_SNAPSHOT_NAME).frame()\n",
    "get_accepted(rtd, \"14.1.0.0/16\").head(5)"
   ]
  },
  {
   "cell_type": "markdown",
   "metadata": {
    "slideshow": {
     "slide_type": "slide"
    }
   },
   "source": [
    "**Let's check if any of the prefixes are leaked**"
   ]
  },
  {
   "cell_type": "code",
   "execution_count": 10,
   "metadata": {
    "slideshow": {
     "slide_type": "fragment"
    }
   },
   "outputs": [
    {
     "data": {
      "text/html": [
       "<div>\n",
       "<style scoped>\n",
       "    .dataframe tbody tr th:only-of-type {\n",
       "        vertical-align: middle;\n",
       "    }\n",
       "\n",
       "    .dataframe tbody tr th {\n",
       "        vertical-align: top;\n",
       "    }\n",
       "\n",
       "    .dataframe thead th {\n",
       "        text-align: right;\n",
       "    }\n",
       "</style>\n",
       "<table border=\"1\" class=\"dataframe\">\n",
       "  <thead>\n",
       "    <tr style=\"text-align: right;\">\n",
       "      <th></th>\n",
       "      <th>Node</th>\n",
       "      <th>Network</th>\n",
       "      <th>Entry_Presence</th>\n",
       "      <th>Snapshot_Next_Hop</th>\n",
       "      <th>Reference_Next_Hop</th>\n",
       "    </tr>\n",
       "  </thead>\n",
       "  <tbody>\n",
       "    <tr>\n",
       "      <th>3</th>\n",
       "      <td>cust01</td>\n",
       "      <td>14.1.12.0/26</td>\n",
       "      <td>Only in Snapshot</td>\n",
       "      <td>pe1</td>\n",
       "      <td>None</td>\n",
       "    </tr>\n",
       "    <tr>\n",
       "      <th>4</th>\n",
       "      <td>cust01</td>\n",
       "      <td>14.1.129.0/25</td>\n",
       "      <td>Only in Snapshot</td>\n",
       "      <td>pe1</td>\n",
       "      <td>None</td>\n",
       "    </tr>\n",
       "    <tr>\n",
       "      <th>8</th>\n",
       "      <td>cust01</td>\n",
       "      <td>14.1.12.64/26</td>\n",
       "      <td>Only in Snapshot</td>\n",
       "      <td>pe1</td>\n",
       "      <td>None</td>\n",
       "    </tr>\n",
       "    <tr>\n",
       "      <th>13</th>\n",
       "      <td>cust01</td>\n",
       "      <td>14.1.13.96/27</td>\n",
       "      <td>Only in Snapshot</td>\n",
       "      <td>pe1</td>\n",
       "      <td>None</td>\n",
       "    </tr>\n",
       "    <tr>\n",
       "      <th>21</th>\n",
       "      <td>cust01</td>\n",
       "      <td>14.1.128.64/26</td>\n",
       "      <td>Only in Snapshot</td>\n",
       "      <td>pe1</td>\n",
       "      <td>None</td>\n",
       "    </tr>\n",
       "  </tbody>\n",
       "</table>\n",
       "</div>"
      ],
      "text/plain": [
       "      Node         Network    Entry_Presence Snapshot_Next_Hop Reference_Next_Hop\n",
       "3   cust01  14.1.12.0/26    Only in Snapshot  pe1               None             \n",
       "4   cust01  14.1.129.0/25   Only in Snapshot  pe1               None             \n",
       "8   cust01  14.1.12.64/26   Only in Snapshot  pe1               None             \n",
       "13  cust01  14.1.13.96/27   Only in Snapshot  pe1               None             \n",
       "21  cust01  14.1.128.64/26  Only in Snapshot  pe1               None             "
      ]
     },
     "execution_count": 10,
     "metadata": {},
     "output_type": "execute_result"
    }
   ],
   "source": [
    "get_leaked(rtd, \"14.1.0.0/16\").head(5)"
   ]
  },
  {
   "cell_type": "markdown",
   "metadata": {
    "slideshow": {
     "slide_type": "fragment"
    }
   },
   "source": [
    "**The change correctly allows those prefixes into our network, but is not preventing them from being passed to other peers.**\n"
   ]
  },
  {
   "cell_type": "markdown",
   "metadata": {
    "slideshow": {
     "slide_type": "slide"
    }
   },
   "source": [
    "### Let's analyze the BGP routing policy difference on pe1 between snapshot test1 and base to gain some insight"
   ]
  },
  {
   "cell_type": "code",
   "execution_count": 11,
   "metadata": {
    "slideshow": {
     "slide_type": "fragment"
    }
   },
   "outputs": [],
   "source": [
    "node = 'pe1'\n",
    "direction = 'in'\n",
    "peer = '11.1.1.1'\n",
    "\n",
    "ref_snapshot = 'base'\n",
    "cur_snapshot = 'test1'\n",
    "\n",
    "rt = convert_ext_bgp_to_bgp_route(bf, node, peer, base_bgp_announce)"
   ]
  },
  {
   "cell_type": "code",
   "execution_count": 12,
   "metadata": {
    "slideshow": {
     "slide_type": "fragment"
    }
   },
   "outputs": [],
   "source": [
    "df = compare_bgp_peer_policies(bf, node, peer, ref_snapshot, cur_snapshot, direction, rt)"
   ]
  },
  {
   "cell_type": "markdown",
   "metadata": {
    "slideshow": {
     "slide_type": "slide"
    }
   },
   "source": [
    "**Display routes that were previously permitted, but are now denied**"
   ]
  },
  {
   "cell_type": "code",
   "execution_count": 13,
   "metadata": {
    "slideshow": {
     "slide_type": "fragment"
    }
   },
   "outputs": [
    {
     "data": {
      "text/html": [
       "<div>\n",
       "<style scoped>\n",
       "    .dataframe tbody tr th:only-of-type {\n",
       "        vertical-align: middle;\n",
       "    }\n",
       "\n",
       "    .dataframe tbody tr th {\n",
       "        vertical-align: top;\n",
       "    }\n",
       "\n",
       "    .dataframe thead th {\n",
       "        text-align: right;\n",
       "    }\n",
       "</style>\n",
       "<table border=\"1\" class=\"dataframe\">\n",
       "  <thead>\n",
       "    <tr style=\"text-align: right;\">\n",
       "      <th></th>\n",
       "      <th>Route</th>\n",
       "      <th>Old Action</th>\n",
       "      <th>Old Transformation</th>\n",
       "      <th>New Action</th>\n",
       "      <th>New Transformation</th>\n",
       "    </tr>\n",
       "  </thead>\n",
       "  <tbody>\n",
       "  </tbody>\n",
       "</table>\n",
       "</div>"
      ],
      "text/plain": [
       "Empty DataFrame\n",
       "Columns: [Route, Old Action, Old Transformation, New Action, New Transformation]\n",
       "Index: []"
      ]
     },
     "execution_count": 13,
     "metadata": {},
     "output_type": "execute_result"
    }
   ],
   "source": [
    "find_newly_denied_routes(df)"
   ]
  },
  {
   "cell_type": "markdown",
   "metadata": {
    "slideshow": {
     "slide_type": "fragment"
    }
   },
   "source": [
    "**Display routes that were previously denied, but are now permitted**"
   ]
  },
  {
   "cell_type": "code",
   "execution_count": 14,
   "metadata": {
    "slideshow": {
     "slide_type": "fragment"
    }
   },
   "outputs": [
    {
     "data": {
      "text/html": [
       "<div>\n",
       "<style scoped>\n",
       "    .dataframe tbody tr th:only-of-type {\n",
       "        vertical-align: middle;\n",
       "    }\n",
       "\n",
       "    .dataframe tbody tr th {\n",
       "        vertical-align: top;\n",
       "    }\n",
       "\n",
       "    .dataframe thead th {\n",
       "        text-align: right;\n",
       "    }\n",
       "</style>\n",
       "<table border=\"1\" class=\"dataframe\">\n",
       "  <thead>\n",
       "    <tr style=\"text-align: right;\">\n",
       "      <th></th>\n",
       "      <th>Route</th>\n",
       "      <th>Old Action</th>\n",
       "      <th>Old Transformation</th>\n",
       "      <th>New Action</th>\n",
       "      <th>New Transformation</th>\n",
       "    </tr>\n",
       "  </thead>\n",
       "  <tbody>\n",
       "    <tr>\n",
       "      <th>0</th>\n",
       "      <td>14.1.12.0/26</td>\n",
       "      <td>DENY</td>\n",
       "      <td>None</td>\n",
       "      <td>PERMIT</td>\n",
       "      <td>[{'fieldName': 'communities', 'oldValue': '[1001:60001]', 'newValue': '[1001:1]'}]</td>\n",
       "    </tr>\n",
       "    <tr>\n",
       "      <th>1</th>\n",
       "      <td>14.1.12.64/26</td>\n",
       "      <td>DENY</td>\n",
       "      <td>None</td>\n",
       "      <td>PERMIT</td>\n",
       "      <td>[{'fieldName': 'communities', 'oldValue': '[1001:60001]', 'newValue': '[1001:1]'}]</td>\n",
       "    </tr>\n",
       "    <tr>\n",
       "      <th>2</th>\n",
       "      <td>14.1.13.0/27</td>\n",
       "      <td>DENY</td>\n",
       "      <td>None</td>\n",
       "      <td>PERMIT</td>\n",
       "      <td>[{'fieldName': 'communities', 'oldValue': '[1001:60001]', 'newValue': '[1001:1]'}]</td>\n",
       "    </tr>\n",
       "    <tr>\n",
       "      <th>3</th>\n",
       "      <td>14.1.13.32/27</td>\n",
       "      <td>DENY</td>\n",
       "      <td>None</td>\n",
       "      <td>PERMIT</td>\n",
       "      <td>[{'fieldName': 'communities', 'oldValue': '[1001:60001]', 'newValue': '[1001:1]'}]</td>\n",
       "    </tr>\n",
       "    <tr>\n",
       "      <th>4</th>\n",
       "      <td>14.1.13.64/27</td>\n",
       "      <td>DENY</td>\n",
       "      <td>None</td>\n",
       "      <td>PERMIT</td>\n",
       "      <td>[{'fieldName': 'communities', 'oldValue': '[1001:60001]', 'newValue': '[1001:1]'}]</td>\n",
       "    </tr>\n",
       "    <tr>\n",
       "      <th>5</th>\n",
       "      <td>14.1.13.96/27</td>\n",
       "      <td>DENY</td>\n",
       "      <td>None</td>\n",
       "      <td>PERMIT</td>\n",
       "      <td>[{'fieldName': 'communities', 'oldValue': '[1001:60001]', 'newValue': '[1001:1]'}]</td>\n",
       "    </tr>\n",
       "  </tbody>\n",
       "</table>\n",
       "</div>"
      ],
      "text/plain": [
       "           Route Old Action Old Transformation New Action                                                                  New Transformation\n",
       "0  14.1.12.0/26   DENY       None               PERMIT     [{'fieldName': 'communities', 'oldValue': '[1001:60001]', 'newValue': '[1001:1]'}]\n",
       "1  14.1.12.64/26  DENY       None               PERMIT     [{'fieldName': 'communities', 'oldValue': '[1001:60001]', 'newValue': '[1001:1]'}]\n",
       "2  14.1.13.0/27   DENY       None               PERMIT     [{'fieldName': 'communities', 'oldValue': '[1001:60001]', 'newValue': '[1001:1]'}]\n",
       "3  14.1.13.32/27  DENY       None               PERMIT     [{'fieldName': 'communities', 'oldValue': '[1001:60001]', 'newValue': '[1001:1]'}]\n",
       "4  14.1.13.64/27  DENY       None               PERMIT     [{'fieldName': 'communities', 'oldValue': '[1001:60001]', 'newValue': '[1001:1]'}]\n",
       "5  14.1.13.96/27  DENY       None               PERMIT     [{'fieldName': 'communities', 'oldValue': '[1001:60001]', 'newValue': '[1001:1]'}]"
      ]
     },
     "execution_count": 14,
     "metadata": {},
     "output_type": "execute_result"
    }
   ],
   "source": [
    "find_newly_permitted_routes(df)"
   ]
  },
  {
   "cell_type": "markdown",
   "metadata": {
    "slideshow": {
     "slide_type": "fragment"
    }
   },
   "source": [
    "**Display routes that were previously permitted, but have a change in BGP attributes (communities, local-pref, ASPATH, etc...)**"
   ]
  },
  {
   "cell_type": "code",
   "execution_count": 15,
   "metadata": {
    "slideshow": {
     "slide_type": "fragment"
    }
   },
   "outputs": [
    {
     "data": {
      "text/html": [
       "<div>\n",
       "<style scoped>\n",
       "    .dataframe tbody tr th:only-of-type {\n",
       "        vertical-align: middle;\n",
       "    }\n",
       "\n",
       "    .dataframe tbody tr th {\n",
       "        vertical-align: top;\n",
       "    }\n",
       "\n",
       "    .dataframe thead th {\n",
       "        text-align: right;\n",
       "    }\n",
       "</style>\n",
       "<table border=\"1\" class=\"dataframe\">\n",
       "  <thead>\n",
       "    <tr style=\"text-align: right;\">\n",
       "      <th></th>\n",
       "      <th>Route</th>\n",
       "      <th>Old Action</th>\n",
       "      <th>Old Transformation</th>\n",
       "      <th>New Action</th>\n",
       "      <th>New Transformation</th>\n",
       "    </tr>\n",
       "  </thead>\n",
       "  <tbody>\n",
       "  </tbody>\n",
       "</table>\n",
       "</div>"
      ],
      "text/plain": [
       "Empty DataFrame\n",
       "Columns: [Route, Old Action, Old Transformation, New Action, New Transformation]\n",
       "Index: []"
      ]
     },
     "execution_count": 15,
     "metadata": {},
     "output_type": "execute_result"
    }
   ],
   "source": [
    "find_routes_with_attrib_change(df)"
   ]
  },
  {
   "cell_type": "markdown",
   "metadata": {
    "slideshow": {
     "slide_type": "slide"
    }
   },
   "source": [
    "### Let's fix the input routing policies towards ***ISP01*** on ***pe1*** and ***pe3*** to prevent the >/24 prefixes from leaving our network"
   ]
  },
  {
   "cell_type": "code",
   "execution_count": 16,
   "metadata": {
    "slideshow": {
     "slide_type": "fragment"
    }
   },
   "outputs": [],
   "source": [
    "# snapshot with new route policy to accomodate peer loadbalancing request\n",
    "TEST2_SNAPSHOT_DIR = f\"{_root_dir}/snapshots/demo2/test2\"\n",
    "TEST2_SNAPSHOT_NAME = \"test2\"\n",
    "\n",
    "t = bf.fork_snapshot(TEST1_SNAPSHOT_NAME, name=TEST2_SNAPSHOT_NAME, add_files=TEST2_SNAPSHOT_DIR, overwrite=True)"
   ]
  },
  {
   "cell_type": "code",
   "execution_count": 17,
   "metadata": {
    "slideshow": {
     "slide_type": "slide"
    }
   },
   "outputs": [
    {
     "name": "stdout",
     "output_type": "stream",
     "text": [
      "\u001b[0;34m/Users/samir/git/nanog78/snapshots/demo2/test1/configs/pe1.cfg\u001b[m                  \u001b[0;34m/Users/samir/git/nanog78/snapshots/demo2/test2/configs/pe1.cfg\u001b[m                 \n",
      "route-map ISP1001-IN permit 20                                                  route-map ISP1001-IN permit 20                                                 \n",
      " match ip address prefix-list ISP1001-IN24                                       match ip address prefix-list ISP1001-IN24                                     \n",
      " set community 1001:1                                                            set community 1001:1\u001b[1;32m no-export\u001b[m                                                \n",
      "!                                                                               !                                                                              \n",
      "route-map ISP1001-IN permit 30                                                  route-map ISP1001-IN permit 30                                                 \n",
      "\u001b[0;34m/Users/samir/git/nanog78/snapshots/demo2/test1/configs/pe3.cfg\u001b[m                  \u001b[0;34m/Users/samir/git/nanog78/snapshots/demo2/test2/configs/pe3.cfg\u001b[m                 \n",
      "set policy-options policy-statement ISP1001-IN term ALLOW_24 from as-path ISP1  set policy-options policy-statement ISP1001-IN term ALLOW_24 from as-path ISP1 \n",
      "001                                                                             001                                                                            \n",
      "set policy-options policy-statement ISP1001-IN term ALLOW_24 from route-filter  set policy-options policy-statement ISP1001-IN term ALLOW_24 from route-filter \n",
      " 14.1.0.0/16 orlonger                                                            14.1.0.0/16 orlonger                                                          \n",
      "set policy-options policy-statement ISP1001-IN term ALLOW_24 then community se  set policy-options policy-statement ISP1001-IN term ALLOW_24 then community se \n",
      "t ISP1001_\u001b[1;33mMARK\u001b[m                                                                  t ISP1001_\u001b[1;33m24\u001b[m                                                                   \n",
      "set policy-options policy-statement ISP1001-IN term ALLOW_24 then accept        set policy-options policy-statement ISP1001-IN term ALLOW_24 then accept       \n",
      "set policy-options policy-statement ISP1001-IN term REJECT then reject          set policy-options policy-statement ISP1001-IN term REJECT then reject         \n",
      "\u001b[0;34m---\u001b[m                                                                             \u001b[0;34m---\u001b[m                                                                            \n",
      "set policy-options community ISP1001 members \"(1001:.*)|(65535:65281)\"          set policy-options community ISP1001 members \"(1001:.*)|(65535:65281)\"         \n",
      "set policy-options community ISP1001_MARK members \"1001:3\"                      set policy-options community ISP1001_MARK members \"1001:3\"                     \n",
      "                                                                                \u001b[1;32mset policy-options community ISP1001_24 members \"1001:3\"\u001b[m                       \n",
      "                                                                                \u001b[1;32mset policy-options community ISP1001_24 members no-export\u001b[m                      \n",
      "set policy-options as-path ISP1001 \"^1001 .*\"                                   set policy-options as-path ISP1001 \"^1001 .*\"                                  \n",
      "set vlans default vlan-id 1                                                     set vlans default vlan-id 1                                                    \n",
      "\n"
     ]
    }
   ],
   "source": [
    "stream = os.popen(f\"icdiff -r --cols=160 {TEST1_SNAPSHOT_DIR} {TEST2_SNAPSHOT_DIR} -U 2\")\n",
    "print(stream.read())"
   ]
  },
  {
   "cell_type": "markdown",
   "metadata": {
    "slideshow": {
     "slide_type": "slide"
    }
   },
   "source": [
    "### Let's see if any routes are still being leaked outside of our AS"
   ]
  },
  {
   "cell_type": "code",
   "execution_count": 18,
   "metadata": {
    "slideshow": {
     "slide_type": "fragment"
    }
   },
   "outputs": [
    {
     "data": {
      "text/html": [
       "<div>\n",
       "<style scoped>\n",
       "    .dataframe tbody tr th:only-of-type {\n",
       "        vertical-align: middle;\n",
       "    }\n",
       "\n",
       "    .dataframe tbody tr th {\n",
       "        vertical-align: top;\n",
       "    }\n",
       "\n",
       "    .dataframe thead th {\n",
       "        text-align: right;\n",
       "    }\n",
       "</style>\n",
       "<table border=\"1\" class=\"dataframe\">\n",
       "  <thead>\n",
       "    <tr style=\"text-align: right;\">\n",
       "      <th></th>\n",
       "      <th>Node</th>\n",
       "      <th>Network</th>\n",
       "      <th>Entry_Presence</th>\n",
       "      <th>Snapshot_Next_Hop</th>\n",
       "      <th>Reference_Next_Hop</th>\n",
       "    </tr>\n",
       "  </thead>\n",
       "  <tbody>\n",
       "    <tr>\n",
       "      <th>2</th>\n",
       "      <td>cust01</td>\n",
       "      <td>14.1.13.96/27</td>\n",
       "      <td>Only in Reference</td>\n",
       "      <td>None</td>\n",
       "      <td>pe1</td>\n",
       "    </tr>\n",
       "    <tr>\n",
       "      <th>6</th>\n",
       "      <td>cust01</td>\n",
       "      <td>14.1.12.64/26</td>\n",
       "      <td>Only in Reference</td>\n",
       "      <td>None</td>\n",
       "      <td>pe1</td>\n",
       "    </tr>\n",
       "    <tr>\n",
       "      <th>7</th>\n",
       "      <td>cust01</td>\n",
       "      <td>14.1.13.32/27</td>\n",
       "      <td>Only in Reference</td>\n",
       "      <td>None</td>\n",
       "      <td>pe1</td>\n",
       "    </tr>\n",
       "    <tr>\n",
       "      <th>9</th>\n",
       "      <td>cust01</td>\n",
       "      <td>14.1.13.0/27</td>\n",
       "      <td>Only in Reference</td>\n",
       "      <td>None</td>\n",
       "      <td>pe1</td>\n",
       "    </tr>\n",
       "    <tr>\n",
       "      <th>13</th>\n",
       "      <td>cust01</td>\n",
       "      <td>14.1.128.0/26</td>\n",
       "      <td>Only in Reference</td>\n",
       "      <td>None</td>\n",
       "      <td>pe1</td>\n",
       "    </tr>\n",
       "  </tbody>\n",
       "</table>\n",
       "</div>"
      ],
      "text/plain": [
       "      Node        Network     Entry_Presence Snapshot_Next_Hop Reference_Next_Hop\n",
       "2   cust01  14.1.13.96/27  Only in Reference  None              pe1              \n",
       "6   cust01  14.1.12.64/26  Only in Reference  None              pe1              \n",
       "7   cust01  14.1.13.32/27  Only in Reference  None              pe1              \n",
       "9   cust01  14.1.13.0/27   Only in Reference  None              pe1              \n",
       "13  cust01  14.1.128.0/26  Only in Reference  None              pe1              "
      ]
     },
     "execution_count": 18,
     "metadata": {},
     "output_type": "execute_result"
    }
   ],
   "source": [
    "rtd = bf.q.routes().answer(snapshot=TEST2_SNAPSHOT_NAME, reference_snapshot=TEST1_SNAPSHOT_NAME).frame()\n",
    "get_leaked(rtd, \"14.1.0.0/16\").head(5)"
   ]
  },
  {
   "cell_type": "markdown",
   "metadata": {
    "slideshow": {
     "slide_type": "fragment"
    }
   },
   "source": [
    "**The prefixes with length >/24 are only present in *test2*, as denoted by *Only in Reference* in the *Entry_Presence* column, so the change is preventing the route-leak**"
   ]
  },
  {
   "cell_type": "markdown",
   "metadata": {
    "slideshow": {
     "slide_type": "slide"
    }
   },
   "source": [
    "### Let's look at the BGP routing policy difference to make sure we still accept these routes for propogation within our AS"
   ]
  },
  {
   "cell_type": "markdown",
   "metadata": {
    "slideshow": {
     "slide_type": "fragment"
    }
   },
   "source": [
    "**Let's analyze the BGP routing policy difference on pe1 between snapshot test2 and test3**"
   ]
  },
  {
   "cell_type": "code",
   "execution_count": 19,
   "metadata": {
    "slideshow": {
     "slide_type": "fragment"
    }
   },
   "outputs": [],
   "source": [
    "ref_snapshot = 'test1'\n",
    "cur_snapshot = 'test2'\n",
    "\n",
    "rt = convert_ext_bgp_to_bgp_route(bf, node, peer, base_bgp_announce)\n",
    "df = compare_bgp_peer_policies(bf, node, peer, ref_snapshot, cur_snapshot, direction, rt)"
   ]
  },
  {
   "cell_type": "markdown",
   "metadata": {
    "slideshow": {
     "slide_type": "fragment"
    }
   },
   "source": [
    "**Display routes that were previously permitted, but are now denied**"
   ]
  },
  {
   "cell_type": "code",
   "execution_count": 20,
   "metadata": {
    "slideshow": {
     "slide_type": "fragment"
    }
   },
   "outputs": [
    {
     "data": {
      "text/html": [
       "<div>\n",
       "<style scoped>\n",
       "    .dataframe tbody tr th:only-of-type {\n",
       "        vertical-align: middle;\n",
       "    }\n",
       "\n",
       "    .dataframe tbody tr th {\n",
       "        vertical-align: top;\n",
       "    }\n",
       "\n",
       "    .dataframe thead th {\n",
       "        text-align: right;\n",
       "    }\n",
       "</style>\n",
       "<table border=\"1\" class=\"dataframe\">\n",
       "  <thead>\n",
       "    <tr style=\"text-align: right;\">\n",
       "      <th></th>\n",
       "      <th>Route</th>\n",
       "      <th>Old Action</th>\n",
       "      <th>Old Transformation</th>\n",
       "      <th>New Action</th>\n",
       "      <th>New Transformation</th>\n",
       "    </tr>\n",
       "  </thead>\n",
       "  <tbody>\n",
       "  </tbody>\n",
       "</table>\n",
       "</div>"
      ],
      "text/plain": [
       "Empty DataFrame\n",
       "Columns: [Route, Old Action, Old Transformation, New Action, New Transformation]\n",
       "Index: []"
      ]
     },
     "execution_count": 20,
     "metadata": {},
     "output_type": "execute_result"
    }
   ],
   "source": [
    "find_newly_denied_routes(df)"
   ]
  },
  {
   "cell_type": "markdown",
   "metadata": {
    "slideshow": {
     "slide_type": "fragment"
    }
   },
   "source": [
    "**Display routes that were previously denied, but are now permitted**"
   ]
  },
  {
   "cell_type": "code",
   "execution_count": 21,
   "metadata": {
    "slideshow": {
     "slide_type": "fragment"
    }
   },
   "outputs": [
    {
     "data": {
      "text/html": [
       "<div>\n",
       "<style scoped>\n",
       "    .dataframe tbody tr th:only-of-type {\n",
       "        vertical-align: middle;\n",
       "    }\n",
       "\n",
       "    .dataframe tbody tr th {\n",
       "        vertical-align: top;\n",
       "    }\n",
       "\n",
       "    .dataframe thead th {\n",
       "        text-align: right;\n",
       "    }\n",
       "</style>\n",
       "<table border=\"1\" class=\"dataframe\">\n",
       "  <thead>\n",
       "    <tr style=\"text-align: right;\">\n",
       "      <th></th>\n",
       "      <th>Route</th>\n",
       "      <th>Old Action</th>\n",
       "      <th>Old Transformation</th>\n",
       "      <th>New Action</th>\n",
       "      <th>New Transformation</th>\n",
       "    </tr>\n",
       "  </thead>\n",
       "  <tbody>\n",
       "  </tbody>\n",
       "</table>\n",
       "</div>"
      ],
      "text/plain": [
       "Empty DataFrame\n",
       "Columns: [Route, Old Action, Old Transformation, New Action, New Transformation]\n",
       "Index: []"
      ]
     },
     "execution_count": 21,
     "metadata": {},
     "output_type": "execute_result"
    }
   ],
   "source": [
    "find_newly_permitted_routes(df)"
   ]
  },
  {
   "cell_type": "markdown",
   "metadata": {
    "slideshow": {
     "slide_type": "slide"
    }
   },
   "source": [
    "**Display routes that were previously permitted, but have a change in BGP attributes (communities, local-pref, ASPATH, etc...)**"
   ]
  },
  {
   "cell_type": "code",
   "execution_count": 22,
   "metadata": {
    "slideshow": {
     "slide_type": "fragment"
    }
   },
   "outputs": [
    {
     "data": {
      "text/html": [
       "<div>\n",
       "<style scoped>\n",
       "    .dataframe tbody tr th:only-of-type {\n",
       "        vertical-align: middle;\n",
       "    }\n",
       "\n",
       "    .dataframe tbody tr th {\n",
       "        vertical-align: top;\n",
       "    }\n",
       "\n",
       "    .dataframe thead th {\n",
       "        text-align: right;\n",
       "    }\n",
       "</style>\n",
       "<table border=\"1\" class=\"dataframe\">\n",
       "  <thead>\n",
       "    <tr style=\"text-align: right;\">\n",
       "      <th></th>\n",
       "      <th>Route</th>\n",
       "      <th>Old Action</th>\n",
       "      <th>Old Transformation</th>\n",
       "      <th>New Action</th>\n",
       "      <th>New Transformation</th>\n",
       "    </tr>\n",
       "  </thead>\n",
       "  <tbody>\n",
       "    <tr>\n",
       "      <th>0</th>\n",
       "      <td>14.1.12.0/26</td>\n",
       "      <td>PERMIT</td>\n",
       "      <td>[{'fieldName': 'communities', 'oldValue': '[1001:60001]', 'newValue': '[1001:1]'}]</td>\n",
       "      <td>PERMIT</td>\n",
       "      <td>[{'fieldName': 'communities', 'oldValue': '[1001:60001]', 'newValue': '[1001:1, 65535:65281]'}]</td>\n",
       "    </tr>\n",
       "    <tr>\n",
       "      <th>1</th>\n",
       "      <td>14.1.12.64/26</td>\n",
       "      <td>PERMIT</td>\n",
       "      <td>[{'fieldName': 'communities', 'oldValue': '[1001:60001]', 'newValue': '[1001:1]'}]</td>\n",
       "      <td>PERMIT</td>\n",
       "      <td>[{'fieldName': 'communities', 'oldValue': '[1001:60001]', 'newValue': '[1001:1, 65535:65281]'}]</td>\n",
       "    </tr>\n",
       "    <tr>\n",
       "      <th>2</th>\n",
       "      <td>14.1.13.0/27</td>\n",
       "      <td>PERMIT</td>\n",
       "      <td>[{'fieldName': 'communities', 'oldValue': '[1001:60001]', 'newValue': '[1001:1]'}]</td>\n",
       "      <td>PERMIT</td>\n",
       "      <td>[{'fieldName': 'communities', 'oldValue': '[1001:60001]', 'newValue': '[1001:1, 65535:65281]'}]</td>\n",
       "    </tr>\n",
       "    <tr>\n",
       "      <th>3</th>\n",
       "      <td>14.1.13.32/27</td>\n",
       "      <td>PERMIT</td>\n",
       "      <td>[{'fieldName': 'communities', 'oldValue': '[1001:60001]', 'newValue': '[1001:1]'}]</td>\n",
       "      <td>PERMIT</td>\n",
       "      <td>[{'fieldName': 'communities', 'oldValue': '[1001:60001]', 'newValue': '[1001:1, 65535:65281]'}]</td>\n",
       "    </tr>\n",
       "    <tr>\n",
       "      <th>4</th>\n",
       "      <td>14.1.13.64/27</td>\n",
       "      <td>PERMIT</td>\n",
       "      <td>[{'fieldName': 'communities', 'oldValue': '[1001:60001]', 'newValue': '[1001:1]'}]</td>\n",
       "      <td>PERMIT</td>\n",
       "      <td>[{'fieldName': 'communities', 'oldValue': '[1001:60001]', 'newValue': '[1001:1, 65535:65281]'}]</td>\n",
       "    </tr>\n",
       "    <tr>\n",
       "      <th>5</th>\n",
       "      <td>14.1.13.96/27</td>\n",
       "      <td>PERMIT</td>\n",
       "      <td>[{'fieldName': 'communities', 'oldValue': '[1001:60001]', 'newValue': '[1001:1]'}]</td>\n",
       "      <td>PERMIT</td>\n",
       "      <td>[{'fieldName': 'communities', 'oldValue': '[1001:60001]', 'newValue': '[1001:1, 65535:65281]'}]</td>\n",
       "    </tr>\n",
       "  </tbody>\n",
       "</table>\n",
       "</div>"
      ],
      "text/plain": [
       "           Route Old Action                                                                  Old Transformation New Action                                                                               New Transformation\n",
       "0  14.1.12.0/26   PERMIT     [{'fieldName': 'communities', 'oldValue': '[1001:60001]', 'newValue': '[1001:1]'}]  PERMIT     [{'fieldName': 'communities', 'oldValue': '[1001:60001]', 'newValue': '[1001:1, 65535:65281]'}]\n",
       "1  14.1.12.64/26  PERMIT     [{'fieldName': 'communities', 'oldValue': '[1001:60001]', 'newValue': '[1001:1]'}]  PERMIT     [{'fieldName': 'communities', 'oldValue': '[1001:60001]', 'newValue': '[1001:1, 65535:65281]'}]\n",
       "2  14.1.13.0/27   PERMIT     [{'fieldName': 'communities', 'oldValue': '[1001:60001]', 'newValue': '[1001:1]'}]  PERMIT     [{'fieldName': 'communities', 'oldValue': '[1001:60001]', 'newValue': '[1001:1, 65535:65281]'}]\n",
       "3  14.1.13.32/27  PERMIT     [{'fieldName': 'communities', 'oldValue': '[1001:60001]', 'newValue': '[1001:1]'}]  PERMIT     [{'fieldName': 'communities', 'oldValue': '[1001:60001]', 'newValue': '[1001:1, 65535:65281]'}]\n",
       "4  14.1.13.64/27  PERMIT     [{'fieldName': 'communities', 'oldValue': '[1001:60001]', 'newValue': '[1001:1]'}]  PERMIT     [{'fieldName': 'communities', 'oldValue': '[1001:60001]', 'newValue': '[1001:1, 65535:65281]'}]\n",
       "5  14.1.13.96/27  PERMIT     [{'fieldName': 'communities', 'oldValue': '[1001:60001]', 'newValue': '[1001:1]'}]  PERMIT     [{'fieldName': 'communities', 'oldValue': '[1001:60001]', 'newValue': '[1001:1, 65535:65281]'}]"
      ]
     },
     "execution_count": 22,
     "metadata": {},
     "output_type": "execute_result"
    }
   ],
   "source": [
    "find_routes_with_attrib_change(df)"
   ]
  },
  {
   "cell_type": "markdown",
   "metadata": {
    "slideshow": {
     "slide_type": "fragment"
    }
   },
   "source": [
    "#### The new routing policy adds the ***no-export (65535:65281)*** community to the prefixes that are >/24, preventing them from leaving the AS"
   ]
  },
  {
   "cell_type": "markdown",
   "metadata": {
    "slideshow": {
     "slide_type": "slide"
    }
   },
   "source": [
    "# END"
   ]
  }
 ],
 "metadata": {
  "celltoolbar": "Slideshow",
  "hide_input": false,
  "kernelspec": {
   "display_name": "Python 3",
   "language": "python",
   "name": "python3"
  },
  "language_info": {
   "codemirror_mode": {
    "name": "ipython",
    "version": 3
   },
   "file_extension": ".py",
   "mimetype": "text/x-python",
   "name": "python",
   "nbconvert_exporter": "python",
   "pygments_lexer": "ipython3",
   "version": "3.7.5"
  },
  "varInspector": {
   "cols": {
    "lenName": 16,
    "lenType": 16,
    "lenVar": 40
   },
   "kernels_config": {
    "python": {
     "delete_cmd_postfix": "",
     "delete_cmd_prefix": "del ",
     "library": "var_list.py",
     "varRefreshCmd": "print(var_dic_list())"
    },
    "r": {
     "delete_cmd_postfix": ") ",
     "delete_cmd_prefix": "rm(",
     "library": "var_list.r",
     "varRefreshCmd": "cat(var_dic_list()) "
    }
   },
   "types_to_exclude": [
    "module",
    "function",
    "builtin_function_or_method",
    "instance",
    "_Feature"
   ],
   "window_display": false
  }
 },
 "nbformat": 4,
 "nbformat_minor": 2
}
