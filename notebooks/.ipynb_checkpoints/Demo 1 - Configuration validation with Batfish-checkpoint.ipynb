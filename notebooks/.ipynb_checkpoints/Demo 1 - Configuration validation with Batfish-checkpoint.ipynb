{
 "cells": [
  {
   "cell_type": "code",
   "execution_count": 1,
   "metadata": {
    "slideshow": {
     "slide_type": "skip"
    }
   },
   "outputs": [],
   "source": [
    "#imports\n",
    "\n",
    "import os\n",
    "from pybatfish.client.session import Session\n",
    "import pandas as pd\n",
    "import yaml\n",
    "from os.path import abspath, dirname, join, pardir, realpath\n",
    "from netaddr import *\n",
    "\n",
    "%run ../code/bgp_route_helpers\n",
    "%run ../code/gen_external_bgp_adverts"
   ]
  },
  {
   "cell_type": "code",
   "execution_count": 2,
   "metadata": {
    "slideshow": {
     "slide_type": "skip"
    }
   },
   "outputs": [],
   "source": [
    "#pandas display options\n",
    "pd.set_option(\"display.width\", 300)\n",
    "pd.set_option(\"display.max_columns\", 20)\n",
    "pd.set_option(\"display.max_rows\", 1000)\n",
    "pd.set_option(\"display.max_colwidth\", -1)"
   ]
  },
  {
   "cell_type": "code",
   "execution_count": 3,
   "metadata": {
    "slideshow": {
     "slide_type": "skip"
    }
   },
   "outputs": [],
   "source": [
    "#snapshot directory and path setup\n",
    "_this_dir = os.getcwd()\n",
    "_root_dir = abspath(join(_this_dir, pardir))\n",
    "\n",
    "NETWORK = \"Nanog-demo1\"\n",
    "BASE_SNAPSHOT_DIR = f\"{_root_dir}/snapshots/demo1/base\"\n",
    "BASE_SNAPSHOT_NAME = \"base\"\n",
    "\n",
    "# create BF session and \n",
    "try:\n",
    "    bf = Session.get('bfe') #Batfish Enterprise\n",
    "except:\n",
    "    bf = Session.get('bf') #Batfish Open-source"
   ]
  },
  {
   "cell_type": "markdown",
   "metadata": {
    "slideshow": {
     "slide_type": "slide"
    }
   },
   "source": [
    "# Demo Network\n",
    "<style>\n",
    "    .image {\n",
    "        display: block; \n",
    "        margin-left: 20px; \n",
    "        margin-right: 20px; \n",
    "        width:50%; \n",
    "    }\n",
    "</style>\n",
    "<img src=\"./nanog-demo1-network.png\" class=\"image\">"
   ]
  },
  {
   "cell_type": "code",
   "execution_count": 4,
   "metadata": {
    "slideshow": {
     "slide_type": "slide"
    }
   },
   "outputs": [
    {
     "data": {
      "text/plain": [
       "'base'"
      ]
     },
     "execution_count": 4,
     "metadata": {},
     "output_type": "execute_result"
    }
   ],
   "source": [
    "# initialize snapshot\n",
    "bf.set_network(NETWORK)\n",
    "bf.init_snapshot(BASE_SNAPSHOT_DIR, name=BASE_SNAPSHOT_NAME, overwrite=True) "
   ]
  },
  {
   "cell_type": "code",
   "execution_count": 5,
   "metadata": {
    "slideshow": {
     "slide_type": "fragment"
    }
   },
   "outputs": [
    {
     "data": {
      "text/html": [
       "<div>\n",
       "<style scoped>\n",
       "    .dataframe tbody tr th:only-of-type {\n",
       "        vertical-align: middle;\n",
       "    }\n",
       "\n",
       "    .dataframe tbody tr th {\n",
       "        vertical-align: top;\n",
       "    }\n",
       "\n",
       "    .dataframe thead th {\n",
       "        text-align: right;\n",
       "    }\n",
       "</style>\n",
       "<table border=\"1\" class=\"dataframe\">\n",
       "  <thead>\n",
       "    <tr style=\"text-align: right;\">\n",
       "      <th></th>\n",
       "      <th>Node</th>\n",
       "      <th>IP_Access_Lists</th>\n",
       "      <th>Interfaces</th>\n",
       "      <th>Route_Filter_Lists</th>\n",
       "    </tr>\n",
       "  </thead>\n",
       "  <tbody>\n",
       "    <tr>\n",
       "      <th>0</th>\n",
       "      <td>pe1</td>\n",
       "      <td>['101']</td>\n",
       "      <td>['Ethernet1', 'Ethernet2', 'Loopback0']</td>\n",
       "      <td>['customer1']</td>\n",
       "    </tr>\n",
       "  </tbody>\n",
       "</table>\n",
       "</div>"
      ],
      "text/plain": [
       "  Node IP_Access_Lists                               Interfaces Route_Filter_Lists\n",
       "0  pe1  ['101']         ['Ethernet1', 'Ethernet2', 'Loopback0']  ['customer1']    "
      ]
     },
     "execution_count": 5,
     "metadata": {},
     "output_type": "execute_result"
    }
   ],
   "source": [
    "# run some Batfish questions in real-time\n",
    "bf.q.nodeProperties(nodes='pe1', properties=\"Interfaces, IP_Access_Lists, Route_Filter_Lists\").answer().frame()"
   ]
  },
  {
   "cell_type": "code",
   "execution_count": 6,
   "metadata": {
    "slideshow": {
     "slide_type": "fragment"
    }
   },
   "outputs": [
    {
     "data": {
      "text/html": [
       "<div>\n",
       "<style scoped>\n",
       "    .dataframe tbody tr th:only-of-type {\n",
       "        vertical-align: middle;\n",
       "    }\n",
       "\n",
       "    .dataframe tbody tr th {\n",
       "        vertical-align: top;\n",
       "    }\n",
       "\n",
       "    .dataframe thead th {\n",
       "        text-align: right;\n",
       "    }\n",
       "</style>\n",
       "<table border=\"1\" class=\"dataframe\">\n",
       "  <thead>\n",
       "    <tr style=\"text-align: right;\">\n",
       "      <th></th>\n",
       "      <th>Node</th>\n",
       "      <th>VRF</th>\n",
       "      <th>Local_AS</th>\n",
       "      <th>Local_IP</th>\n",
       "      <th>Local_Interface</th>\n",
       "      <th>Confederation</th>\n",
       "      <th>Remote_AS</th>\n",
       "      <th>Remote_IP</th>\n",
       "      <th>Route_Reflector_Client</th>\n",
       "      <th>Cluster_ID</th>\n",
       "      <th>Peer_Group</th>\n",
       "      <th>Import_Policy</th>\n",
       "      <th>Export_Policy</th>\n",
       "      <th>Send_Community</th>\n",
       "      <th>Is_Passive</th>\n",
       "    </tr>\n",
       "  </thead>\n",
       "  <tbody>\n",
       "    <tr>\n",
       "      <th>0</th>\n",
       "      <td>pe1</td>\n",
       "      <td>default</td>\n",
       "      <td>60001</td>\n",
       "      <td>9.1.1.0</td>\n",
       "      <td>None</td>\n",
       "      <td>None</td>\n",
       "      <td>609</td>\n",
       "      <td>9.1.1.1</td>\n",
       "      <td>False</td>\n",
       "      <td>None</td>\n",
       "      <td>None</td>\n",
       "      <td>['customer1-in']</td>\n",
       "      <td>[]</td>\n",
       "      <td>True</td>\n",
       "      <td>False</td>\n",
       "    </tr>\n",
       "    <tr>\n",
       "      <th>1</th>\n",
       "      <td>pe1</td>\n",
       "      <td>default</td>\n",
       "      <td>60001</td>\n",
       "      <td>10.1.1.0</td>\n",
       "      <td>None</td>\n",
       "      <td>None</td>\n",
       "      <td>60001</td>\n",
       "      <td>10.1.1.1</td>\n",
       "      <td>False</td>\n",
       "      <td>None</td>\n",
       "      <td>None</td>\n",
       "      <td>[]</td>\n",
       "      <td>[]</td>\n",
       "      <td>True</td>\n",
       "      <td>False</td>\n",
       "    </tr>\n",
       "  </tbody>\n",
       "</table>\n",
       "</div>"
      ],
      "text/plain": [
       "  Node      VRF Local_AS  Local_IP Local_Interface Confederation Remote_AS Remote_IP Route_Reflector_Client Cluster_ID Peer_Group     Import_Policy Export_Policy Send_Community Is_Passive\n",
       "0  pe1  default  60001    9.1.1.0   None            None          609       9.1.1.1   False                  None       None       ['customer1-in']  []            True           False    \n",
       "1  pe1  default  60001    10.1.1.0  None            None          60001     10.1.1.1  False                  None       None       []                []            True           False    "
      ]
     },
     "execution_count": 6,
     "metadata": {},
     "output_type": "execute_result"
    }
   ],
   "source": [
    "# run some Batfish questions in real-time\n",
    "bf.q.bgpPeerConfiguration(nodes='pe1').answer().frame()"
   ]
  },
  {
   "cell_type": "markdown",
   "metadata": {
    "slideshow": {
     "slide_type": "slide"
    }
   },
   "source": [
    "# Now let's see how we can check the policy compliance of this demo network"
   ]
  },
  {
   "cell_type": "markdown",
   "metadata": {
    "slideshow": {
     "slide_type": "fragment"
    }
   },
   "source": [
    "**We are going to use the Batfish Python SDK (pybatfish) with pytest to define and execute policy evaluation**"
   ]
  },
  {
   "cell_type": "code",
   "execution_count": 7,
   "metadata": {
    "slideshow": {
     "slide_type": "fragment"
    }
   },
   "outputs": [
    {
     "name": "stdout",
     "output_type": "stream",
     "text": [
      "Report can be found at /Users/samir/git/nanog78/manrs_report.html\n"
     ]
    }
   ],
   "source": [
    "# run pytest in command line and capture the output\n",
    "report_file = f\"{_root_dir}/manrs_report.html\"\n",
    "stream = os.popen(f\"python -m pytest -s {_root_dir}/policies --network={NETWORK} --snapshot={BASE_SNAPSHOT_NAME} --html={report_file} --tb=no --css={_root_dir}/policies/custom.css\")\n",
    "print(f\"Report can be found at {report_file}\")"
   ]
  }
 ],
 "metadata": {
  "celltoolbar": "Slideshow",
  "hide_input": false,
  "kernelspec": {
   "display_name": "Python 3",
   "language": "python",
   "name": "python3"
  },
  "language_info": {
   "codemirror_mode": {
    "name": "ipython",
    "version": 3
   },
   "file_extension": ".py",
   "mimetype": "text/x-python",
   "name": "python",
   "nbconvert_exporter": "python",
   "pygments_lexer": "ipython3",
   "version": "3.7.5"
  },
  "varInspector": {
   "cols": {
    "lenName": 16,
    "lenType": 16,
    "lenVar": 40
   },
   "kernels_config": {
    "python": {
     "delete_cmd_postfix": "",
     "delete_cmd_prefix": "del ",
     "library": "var_list.py",
     "varRefreshCmd": "print(var_dic_list())"
    },
    "r": {
     "delete_cmd_postfix": ") ",
     "delete_cmd_prefix": "rm(",
     "library": "var_list.r",
     "varRefreshCmd": "cat(var_dic_list()) "
    }
   },
   "types_to_exclude": [
    "module",
    "function",
    "builtin_function_or_method",
    "instance",
    "_Feature"
   ],
   "window_display": false
  }
 },
 "nbformat": 4,
 "nbformat_minor": 2
}
