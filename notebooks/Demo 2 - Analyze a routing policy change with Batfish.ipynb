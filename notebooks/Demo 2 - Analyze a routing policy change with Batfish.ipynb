{
 "cells": [
  {
   "cell_type": "code",
   "execution_count": 1,
   "metadata": {
    "slideshow": {
     "slide_type": "skip"
    }
   },
   "outputs": [
    {
     "data": {
      "text/plain": [
       "'base'"
      ]
     },
     "execution_count": 1,
     "metadata": {},
     "output_type": "execute_result"
    }
   ],
   "source": [
    "import os\n",
    "from pybatfish.client.session import Session\n",
    "import pandas as pd\n",
    "import yaml\n",
    "from os.path import abspath, dirname, join, pardir, realpath\n",
    "from netaddr import *\n",
    "\n",
    "%run ../code/bgp_route_helpers\n",
    "%run ../code/gen_external_bgp_adverts\n",
    "\n",
    "#pandas display options\n",
    "pd.set_option(\"display.width\", 300)\n",
    "pd.set_option(\"display.max_columns\", 20)\n",
    "pd.set_option(\"display.max_rows\", 1000)\n",
    "pd.set_option(\"display.max_colwidth\", -1)\n",
    "\n",
    "#snapshot directory and path setup\n",
    "_this_dir = os.getcwd()\n",
    "_root_dir = abspath(join(_this_dir, pardir))\n",
    "\n",
    "NETWORK = \"Nanog-demo1\"\n",
    "BASE_SNAPSHOT_DIR = f\"{_root_dir}/snapshots/demo1/base\"\n",
    "BASE_SNAPSHOT_NAME = \"base\"\n",
    "\n",
    "\n",
    "# create BF session and initialize snapshot\n",
    "try:\n",
    "    bf = Session.get('bfe') #Batfish Enterprise\n",
    "except:\n",
    "    bf = Session.get('bf') #Batfish Open-source\n",
    "bf.set_network(NETWORK)\n",
    "bf.init_snapshot(BASE_SNAPSHOT_DIR, name=BASE_SNAPSHOT_NAME, overwrite=True)"
   ]
  },
  {
   "cell_type": "markdown",
   "metadata": {
    "slideshow": {
     "slide_type": "slide"
    }
   },
   "source": [
    "# Demo Network\n",
    "<style>\n",
    "    .image {\n",
    "        display: block; \n",
    "        margin-left: 20px; \n",
    "        margin-right: 20px; \n",
    "        width:50%; \n",
    "    }\n",
    "</style>\n",
    "<img src=\"./nanog-demo1-network.png\" class=\"image\">"
   ]
  },
  {
   "cell_type": "markdown",
   "metadata": {
    "slideshow": {
     "slide_type": "fragment"
    }
   },
   "source": [
    "**Let's analyze the input routing policy on PE1 towards cust01**"
   ]
  },
  {
   "cell_type": "code",
   "execution_count": 2,
   "metadata": {
    "scrolled": true,
    "slideshow": {
     "slide_type": "fragment"
    }
   },
   "outputs": [],
   "source": [
    "node = 'pe1'\n",
    "local_ip = '9.1.1.0'\n",
    "peer_ip = '9.1.1.1'\n",
    "peer_as = '609'\n",
    "peer_in_pol = get_bgp_policy_name(bf, node, peer_ip, 'in')"
   ]
  },
  {
   "cell_type": "markdown",
   "metadata": {
    "slideshow": {
     "slide_type": "fragment"
    }
   },
   "source": [
    "**Retrieve input BGP routes (BGP-Adj-RIB-In) to analyze and convert to format necessary for Batfish to analyze**"
   ]
  },
  {
   "cell_type": "code",
   "execution_count": 3,
   "metadata": {
    "slideshow": {
     "slide_type": "fragment"
    }
   },
   "outputs": [],
   "source": [
    "input_bgp_routes = get_input_bgp_routes(bf, BASE_SNAPSHOT_DIR, node, peer_ip)"
   ]
  },
  {
   "cell_type": "markdown",
   "metadata": {
    "slideshow": {
     "slide_type": "slide"
    }
   },
   "source": [
    "**Analyze behavior of PE1 BGP import policy towards cust01**"
   ]
  },
  {
   "cell_type": "code",
   "execution_count": 4,
   "metadata": {
    "slideshow": {
     "slide_type": "fragment"
    }
   },
   "outputs": [],
   "source": [
    "df = bf.q.testRoutePolicies(nodes=node, policies=peer_in_pol, direction='in', inputRoutes=input_bgp_routes).answer().frame()"
   ]
  },
  {
   "cell_type": "markdown",
   "metadata": {
    "slideshow": {
     "slide_type": "fragment"
    }
   },
   "source": [
    "**Display the routes that are denied by the routing policy**"
   ]
  },
  {
   "cell_type": "code",
   "execution_count": 5,
   "metadata": {
    "slideshow": {
     "slide_type": "fragment"
    }
   },
   "outputs": [
    {
     "data": {
      "text/html": [
       "<div>\n",
       "<style scoped>\n",
       "    .dataframe tbody tr th:only-of-type {\n",
       "        vertical-align: middle;\n",
       "    }\n",
       "\n",
       "    .dataframe tbody tr th {\n",
       "        vertical-align: top;\n",
       "    }\n",
       "\n",
       "    .dataframe thead th {\n",
       "        text-align: right;\n",
       "    }\n",
       "</style>\n",
       "<table border=\"1\" class=\"dataframe\">\n",
       "  <thead>\n",
       "    <tr style=\"text-align: right;\">\n",
       "      <th></th>\n",
       "      <th>Node</th>\n",
       "      <th>Policy_Name</th>\n",
       "      <th>Input_Route</th>\n",
       "      <th>Action</th>\n",
       "      <th>Output_Route</th>\n",
       "      <th>Difference</th>\n",
       "    </tr>\n",
       "  </thead>\n",
       "  <tbody>\n",
       "  </tbody>\n",
       "</table>\n",
       "</div>"
      ],
      "text/plain": [
       "Empty DataFrame\n",
       "Columns: [Node, Policy_Name, Input_Route, Action, Output_Route, Difference]\n",
       "Index: []"
      ]
     },
     "execution_count": 5,
     "metadata": {},
     "output_type": "execute_result"
    }
   ],
   "source": [
    "get_denied_routes(df)"
   ]
  },
  {
   "cell_type": "markdown",
   "metadata": {
    "slideshow": {
     "slide_type": "slide"
    }
   },
   "source": [
    "**Display the routes that are permitted by the routing policy**"
   ]
  },
  {
   "cell_type": "code",
   "execution_count": 6,
   "metadata": {
    "slideshow": {
     "slide_type": "fragment"
    }
   },
   "outputs": [
    {
     "data": {
      "text/html": [
       "<div>\n",
       "<style scoped>\n",
       "    .dataframe tbody tr th:only-of-type {\n",
       "        vertical-align: middle;\n",
       "    }\n",
       "\n",
       "    .dataframe tbody tr th {\n",
       "        vertical-align: top;\n",
       "    }\n",
       "\n",
       "    .dataframe thead th {\n",
       "        text-align: right;\n",
       "    }\n",
       "</style>\n",
       "<table border=\"1\" class=\"dataframe\">\n",
       "  <thead>\n",
       "    <tr style=\"text-align: right;\">\n",
       "      <th></th>\n",
       "      <th>Node</th>\n",
       "      <th>Network</th>\n",
       "      <th>Action</th>\n",
       "      <th>Difference</th>\n",
       "    </tr>\n",
       "  </thead>\n",
       "  <tbody>\n",
       "    <tr>\n",
       "      <th>0</th>\n",
       "      <td>pe1</td>\n",
       "      <td>11.0.0.0/16</td>\n",
       "      <td>PERMIT</td>\n",
       "      <td>[{'fieldName': 'communities', 'oldValue': '[609:60001]', 'newValue': '[609:1]'}]</td>\n",
       "    </tr>\n",
       "    <tr>\n",
       "      <th>1</th>\n",
       "      <td>pe1</td>\n",
       "      <td>11.1.0.0/16</td>\n",
       "      <td>PERMIT</td>\n",
       "      <td>[{'fieldName': 'communities', 'oldValue': '[609:60001]', 'newValue': '[609:1]'}]</td>\n",
       "    </tr>\n",
       "    <tr>\n",
       "      <th>2</th>\n",
       "      <td>pe1</td>\n",
       "      <td>11.2.0.0/16</td>\n",
       "      <td>PERMIT</td>\n",
       "      <td>[{'fieldName': 'communities', 'oldValue': '[609:60001]', 'newValue': '[609:1]'}]</td>\n",
       "    </tr>\n",
       "    <tr>\n",
       "      <th>3</th>\n",
       "      <td>pe1</td>\n",
       "      <td>11.3.0.0/16</td>\n",
       "      <td>PERMIT</td>\n",
       "      <td>[{'fieldName': 'communities', 'oldValue': '[609:60001]', 'newValue': '[609:1]'}]</td>\n",
       "    </tr>\n",
       "    <tr>\n",
       "      <th>4</th>\n",
       "      <td>pe1</td>\n",
       "      <td>11.4.0.0/16</td>\n",
       "      <td>PERMIT</td>\n",
       "      <td>[{'fieldName': 'communities', 'oldValue': '[609:60001]', 'newValue': '[609:1]'}]</td>\n",
       "    </tr>\n",
       "  </tbody>\n",
       "</table>\n",
       "</div>"
      ],
      "text/plain": [
       "  Node      Network  Action                                                                        Difference\n",
       "0  pe1  11.0.0.0/16  PERMIT  [{'fieldName': 'communities', 'oldValue': '[609:60001]', 'newValue': '[609:1]'}]\n",
       "1  pe1  11.1.0.0/16  PERMIT  [{'fieldName': 'communities', 'oldValue': '[609:60001]', 'newValue': '[609:1]'}]\n",
       "2  pe1  11.2.0.0/16  PERMIT  [{'fieldName': 'communities', 'oldValue': '[609:60001]', 'newValue': '[609:1]'}]\n",
       "3  pe1  11.3.0.0/16  PERMIT  [{'fieldName': 'communities', 'oldValue': '[609:60001]', 'newValue': '[609:1]'}]\n",
       "4  pe1  11.4.0.0/16  PERMIT  [{'fieldName': 'communities', 'oldValue': '[609:60001]', 'newValue': '[609:1]'}]"
      ]
     },
     "execution_count": 6,
     "metadata": {},
     "output_type": "execute_result"
    }
   ],
   "source": [
    "summarize(get_permitted_routes(df)).head(5)"
   ]
  },
  {
   "cell_type": "markdown",
   "metadata": {
    "slideshow": {
     "slide_type": "fragment"
    }
   },
   "source": [
    "**Display routes that were permitted but not modified**\n"
   ]
  },
  {
   "cell_type": "code",
   "execution_count": 7,
   "metadata": {
    "slideshow": {
     "slide_type": "fragment"
    }
   },
   "outputs": [
    {
     "data": {
      "text/html": [
       "<div>\n",
       "<style scoped>\n",
       "    .dataframe tbody tr th:only-of-type {\n",
       "        vertical-align: middle;\n",
       "    }\n",
       "\n",
       "    .dataframe tbody tr th {\n",
       "        vertical-align: top;\n",
       "    }\n",
       "\n",
       "    .dataframe thead th {\n",
       "        text-align: right;\n",
       "    }\n",
       "</style>\n",
       "<table border=\"1\" class=\"dataframe\">\n",
       "  <thead>\n",
       "    <tr style=\"text-align: right;\">\n",
       "      <th></th>\n",
       "      <th>Node</th>\n",
       "      <th>Policy_Name</th>\n",
       "      <th>Input_Route</th>\n",
       "      <th>Action</th>\n",
       "      <th>Output_Route</th>\n",
       "      <th>Difference</th>\n",
       "    </tr>\n",
       "  </thead>\n",
       "  <tbody>\n",
       "  </tbody>\n",
       "</table>\n",
       "</div>"
      ],
      "text/plain": [
       "Empty DataFrame\n",
       "Columns: [Node, Policy_Name, Input_Route, Action, Output_Route, Difference]\n",
       "Index: []"
      ]
     },
     "execution_count": 7,
     "metadata": {},
     "output_type": "execute_result"
    }
   ],
   "source": [
    "get_permitted_unmodified(df)"
   ]
  },
  {
   "cell_type": "markdown",
   "metadata": {
    "slideshow": {
     "slide_type": "slide"
    }
   },
   "source": [
    "## Change routing policy to block prefixes >/24 and analyze that proposed change"
   ]
  },
  {
   "cell_type": "code",
   "execution_count": 8,
   "metadata": {
    "slideshow": {
     "slide_type": "fragment"
    }
   },
   "outputs": [
    {
     "data": {
      "text/plain": [
       "'test'"
      ]
     },
     "execution_count": 8,
     "metadata": {},
     "output_type": "execute_result"
    }
   ],
   "source": [
    "TEST_SNAPSHOT_DIR = f\"{_root_dir}/snapshots/demo1/test\"\n",
    "TEST_SNAPSHOT_NAME = \"test\"\n",
    "\n",
    "bf.fork_snapshot(BASE_SNAPSHOT_NAME, name=TEST_SNAPSHOT_NAME, add_files=TEST_SNAPSHOT_DIR, overwrite=True)"
   ]
  },
  {
   "cell_type": "markdown",
   "metadata": {
    "slideshow": {
     "slide_type": "slide"
    }
   },
   "source": [
    "### Display the configuration change"
   ]
  },
  {
   "cell_type": "code",
   "execution_count": 9,
   "metadata": {
    "slideshow": {
     "slide_type": "skip"
    }
   },
   "outputs": [
    {
     "name": "stdout",
     "output_type": "stream",
     "text": [
      "This functionality is only available with the Batfish Enterprise service\n"
     ]
    }
   ],
   "source": [
    "# print configuration file difference, this command is ONLY available in the Batfish Enterprise service\n",
    "try:\n",
    "    print(bf.get_configuration_diffs(TEST_SNAPSHOT_NAME, BASE_SNAPSHOT_NAME))\n",
    "except:\n",
    "    print(\"This functionality is only available with the Batfish Enterprise service\")"
   ]
  },
  {
   "cell_type": "code",
   "execution_count": 10,
   "metadata": {
    "slideshow": {
     "slide_type": "fragment"
    }
   },
   "outputs": [
    {
     "name": "stdout",
     "output_type": "stream",
     "text": [
      "\u001b[0;35mOnly in /Users/samir/git/nanog78/snapshots/demo1/base/configs: mock_cust01.cfg\u001b[m\n",
      "\u001b[0;35mOnly in /Users/samir/git/nanog78/snapshots/demo1/base/configs: mock_cust02.cfg\u001b[m\n",
      "\u001b[0;34m/Users/samir/git/nanog78/snapshots/demo1/base/configs/pe1.cfg\u001b[m              \u001b[0;34m/Users/samir/git/nanog78/snapshots/demo1/test/configs/pe1.cfg\u001b[m             \n",
      "ip prefix-list customer1 permit 0.0.0.0/0 le 32                            ip prefix-list customer1 permit 0.0.0.0/0 le 32                           \n",
      "!                                                                          !                                                                         \n",
      "                                                                           \u001b[1;32mip prefix-list BLOCK24 permit 0.0.0.0/0 ge 24\u001b[m                             \n",
      "                                                                           \u001b[1;32m!\u001b[m                                                                         \n",
      "ip community-list expanded customer1 permit _609:.*_                       ip community-list expanded customer1 permit _609:.*_                      \n",
      "!                                                                          !                                                                         \n",
      "!                                                                          !                                                                         \n",
      "                                                                           \u001b[1;32mroute-map customer1-in deny 10\u001b[m                                            \n",
      "                                                                           \u001b[1;32m match ip address prefix-list BLOCK24\u001b[m                                     \n",
      "                                                                           \u001b[1;32m!\u001b[m                                                                         \n",
      "route-map customer1-in permit \u001b[1;33m1\u001b[m0                                           route-map customer1-in permit \u001b[1;33m2\u001b[m0                                          \n",
      " match as-path customer1                                                    match as-path customer1                                                  \n",
      " match ip address prefix-list customer1                                     match ip address prefix-list customer1                                   \n",
      " set community 609:1                                                        set community 609:1                                                      \n",
      "\u001b[1;31mroute-map customer1-in deny 20\u001b[m                                                                                                                       \n",
      "!                                                                          !                                                                         \n",
      "end                                                                        end                                                                       \n",
      "\u001b[0;35mOnly in /Users/samir/git/nanog78/snapshots/demo1/base/configs: pe2.cfg\u001b[m\n",
      "\u001b[0;35mOnly in /Users/samir/git/nanog78/snapshots/demo1/base: external_bgp_announcements.json\u001b[m\n",
      "\n"
     ]
    }
   ],
   "source": [
    "stream = os.popen(f\"icdiff -r --cols=150 {BASE_SNAPSHOT_DIR} {TEST_SNAPSHOT_DIR} -U 2\")\n",
    "print(stream.read())"
   ]
  },
  {
   "cell_type": "markdown",
   "metadata": {
    "slideshow": {
     "slide_type": "slide"
    }
   },
   "source": [
    "### Compare the old and new routing policy on PE1 towards cust01 (AS 609)"
   ]
  },
  {
   "cell_type": "code",
   "execution_count": 11,
   "metadata": {
    "slideshow": {
     "slide_type": "fragment"
    }
   },
   "outputs": [],
   "source": [
    "df = compare_bgp_peer_policies(bf, node, peer_ip, BASE_SNAPSHOT_NAME, TEST_SNAPSHOT_NAME, 'in', input_bgp_routes)"
   ]
  },
  {
   "cell_type": "markdown",
   "metadata": {
    "slideshow": {
     "slide_type": "fragment"
    }
   },
   "source": [
    "**Display routes that were previously permitted but are now denied**"
   ]
  },
  {
   "cell_type": "code",
   "execution_count": 12,
   "metadata": {
    "slideshow": {
     "slide_type": "fragment"
    }
   },
   "outputs": [
    {
     "data": {
      "text/html": [
       "<div>\n",
       "<style scoped>\n",
       "    .dataframe tbody tr th:only-of-type {\n",
       "        vertical-align: middle;\n",
       "    }\n",
       "\n",
       "    .dataframe tbody tr th {\n",
       "        vertical-align: top;\n",
       "    }\n",
       "\n",
       "    .dataframe thead th {\n",
       "        text-align: right;\n",
       "    }\n",
       "</style>\n",
       "<table border=\"1\" class=\"dataframe\">\n",
       "  <thead>\n",
       "    <tr style=\"text-align: right;\">\n",
       "      <th></th>\n",
       "      <th>Route</th>\n",
       "      <th>Old Action</th>\n",
       "      <th>Old Transformation</th>\n",
       "      <th>New Action</th>\n",
       "      <th>New Transformation</th>\n",
       "    </tr>\n",
       "  </thead>\n",
       "  <tbody>\n",
       "    <tr>\n",
       "      <th>0</th>\n",
       "      <td>25.0.0.0/26</td>\n",
       "      <td>PERMIT</td>\n",
       "      <td>[{'fieldName': 'communities', 'oldValue': '[609:60001]', 'newValue': '[609:1]'}]</td>\n",
       "      <td>DENY</td>\n",
       "      <td>None</td>\n",
       "    </tr>\n",
       "  </tbody>\n",
       "</table>\n",
       "</div>"
      ],
      "text/plain": [
       "         Route Old Action                                                                Old Transformation New Action New Transformation\n",
       "0  25.0.0.0/26  PERMIT     [{'fieldName': 'communities', 'oldValue': '[609:60001]', 'newValue': '[609:1]'}]  DENY       None             "
      ]
     },
     "execution_count": 12,
     "metadata": {},
     "output_type": "execute_result"
    }
   ],
   "source": [
    "find_newly_denied_routes(df)"
   ]
  },
  {
   "cell_type": "markdown",
   "metadata": {
    "slideshow": {
     "slide_type": "fragment"
    }
   },
   "source": [
    "**Display routes that were previously denied but are not permitted**\n"
   ]
  },
  {
   "cell_type": "code",
   "execution_count": 13,
   "metadata": {
    "slideshow": {
     "slide_type": "fragment"
    }
   },
   "outputs": [
    {
     "data": {
      "text/html": [
       "<div>\n",
       "<style scoped>\n",
       "    .dataframe tbody tr th:only-of-type {\n",
       "        vertical-align: middle;\n",
       "    }\n",
       "\n",
       "    .dataframe tbody tr th {\n",
       "        vertical-align: top;\n",
       "    }\n",
       "\n",
       "    .dataframe thead th {\n",
       "        text-align: right;\n",
       "    }\n",
       "</style>\n",
       "<table border=\"1\" class=\"dataframe\">\n",
       "  <thead>\n",
       "    <tr style=\"text-align: right;\">\n",
       "      <th></th>\n",
       "      <th>Route</th>\n",
       "      <th>Old Action</th>\n",
       "      <th>Old Transformation</th>\n",
       "      <th>New Action</th>\n",
       "      <th>New Transformation</th>\n",
       "    </tr>\n",
       "  </thead>\n",
       "  <tbody>\n",
       "  </tbody>\n",
       "</table>\n",
       "</div>"
      ],
      "text/plain": [
       "Empty DataFrame\n",
       "Columns: [Route, Old Action, Old Transformation, New Action, New Transformation]\n",
       "Index: []"
      ]
     },
     "execution_count": 13,
     "metadata": {},
     "output_type": "execute_result"
    }
   ],
   "source": [
    "find_newly_permitted_routes(df)"
   ]
  },
  {
   "cell_type": "markdown",
   "metadata": {
    "slideshow": {
     "slide_type": "fragment"
    }
   },
   "source": [
    "**Display routes that continued to be permitted, but have attribute changes**\n"
   ]
  },
  {
   "cell_type": "code",
   "execution_count": 14,
   "metadata": {
    "slideshow": {
     "slide_type": "fragment"
    }
   },
   "outputs": [
    {
     "data": {
      "text/html": [
       "<div>\n",
       "<style scoped>\n",
       "    .dataframe tbody tr th:only-of-type {\n",
       "        vertical-align: middle;\n",
       "    }\n",
       "\n",
       "    .dataframe tbody tr th {\n",
       "        vertical-align: top;\n",
       "    }\n",
       "\n",
       "    .dataframe thead th {\n",
       "        text-align: right;\n",
       "    }\n",
       "</style>\n",
       "<table border=\"1\" class=\"dataframe\">\n",
       "  <thead>\n",
       "    <tr style=\"text-align: right;\">\n",
       "      <th></th>\n",
       "      <th>Route</th>\n",
       "      <th>Old Action</th>\n",
       "      <th>Old Transformation</th>\n",
       "      <th>New Action</th>\n",
       "      <th>New Transformation</th>\n",
       "    </tr>\n",
       "  </thead>\n",
       "  <tbody>\n",
       "  </tbody>\n",
       "</table>\n",
       "</div>"
      ],
      "text/plain": [
       "Empty DataFrame\n",
       "Columns: [Route, Old Action, Old Transformation, New Action, New Transformation]\n",
       "Index: []"
      ]
     },
     "execution_count": 14,
     "metadata": {},
     "output_type": "execute_result"
    }
   ],
   "source": [
    "find_routes_with_attrib_change(df)"
   ]
  },
  {
   "cell_type": "markdown",
   "metadata": {
    "slideshow": {
     "slide_type": "slide"
    }
   },
   "source": [
    "# END"
   ]
  }
 ],
 "metadata": {
  "celltoolbar": "Slideshow",
  "hide_input": false,
  "kernelspec": {
   "display_name": "Python 3",
   "language": "python",
   "name": "python3"
  },
  "language_info": {
   "codemirror_mode": {
    "name": "ipython",
    "version": 3
   },
   "file_extension": ".py",
   "mimetype": "text/x-python",
   "name": "python",
   "nbconvert_exporter": "python",
   "pygments_lexer": "ipython3",
   "version": "3.7.5"
  },
  "varInspector": {
   "cols": {
    "lenName": 16,
    "lenType": 16,
    "lenVar": 40
   },
   "kernels_config": {
    "python": {
     "delete_cmd_postfix": "",
     "delete_cmd_prefix": "del ",
     "library": "var_list.py",
     "varRefreshCmd": "print(var_dic_list())"
    },
    "r": {
     "delete_cmd_postfix": ") ",
     "delete_cmd_prefix": "rm(",
     "library": "var_list.r",
     "varRefreshCmd": "cat(var_dic_list()) "
    }
   },
   "types_to_exclude": [
    "module",
    "function",
    "builtin_function_or_method",
    "instance",
    "_Feature"
   ],
   "window_display": false
  }
 },
 "nbformat": 4,
 "nbformat_minor": 2
}
